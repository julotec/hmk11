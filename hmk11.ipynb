{
  "cells": [
    {
      "cell_type": "markdown",
      "metadata": {
        "id": "view-in-github",
        "colab_type": "text"
      },
      "source": [
        "<a href=\"https://colab.research.google.com/github/julotec/hmk11/blob/main/hmk11.ipynb\" target=\"_parent\"><img src=\"https://colab.research.google.com/assets/colab-badge.svg\" alt=\"Open In Colab\"/></a>"
      ]
    },
    {
      "cell_type": "code",
      "source": [
        "import tensorflow as tf\n",
        "from tensorflow import keras\n",
        "from tensorflow.keras.models import Sequential\n",
        "from tensorflow.keras.layers import Embedding, SimpleRNN, LSTM, Bidirectional, Dense, Dropout\n",
        "from tensorflow.keras.datasets import imdb\n",
        "from tensorflow.keras.preprocessing.sequence import pad_sequences\n",
        "import numpy as np"
      ],
      "metadata": {
        "id": "6VlkDgRbQXeJ"
      },
      "execution_count": 1,
      "outputs": []
    },
    {
      "cell_type": "code",
      "source": [
        "max_features = 10000  # Liczba unikalnych słów (cech)\n",
        "maxlen = 500  # Maksymalna długość recenzji (w słowach)\n",
        "\n",
        "# Załadowanie danych\n",
        "(x_train, y_train), (x_test, y_test) = imdb.load_data(num_words=max_features)\n",
        "\n",
        "# Wypełnianie lub obcinanie recenzji do maxlen\n",
        "x_train = pad_sequences(x_train, maxlen=maxlen)\n",
        "x_test = pad_sequences(x_test, maxlen=maxlen)"
      ],
      "metadata": {
        "id": "PiUhciw7Q6-h",
        "outputId": "afc1f13d-b9ab-4190-bad7-9e3bf7be5a75",
        "colab": {
          "base_uri": "https://localhost:8080/"
        }
      },
      "execution_count": 2,
      "outputs": [
        {
          "output_type": "stream",
          "name": "stdout",
          "text": [
            "Downloading data from https://storage.googleapis.com/tensorflow/tf-keras-datasets/imdb.npz\n",
            "17464789/17464789 [==============================] - 0s 0us/step\n"
          ]
        }
      ]
    },
    {
      "cell_type": "code",
      "source": [
        "def build_rnn_model():\n",
        "    model = Sequential()\n",
        "    model.add(Embedding(max_features, 128))\n",
        "    model.add(SimpleRNN(128))\n",
        "    model.add(Dense(1, activation='sigmoid'))\n",
        "    model.compile(optimizer='adam', loss='binary_crossentropy', metrics=['accuracy'])\n",
        "    return model"
      ],
      "metadata": {
        "id": "Wfh3Lp7CRR0m"
      },
      "execution_count": 3,
      "outputs": []
    },
    {
      "cell_type": "code",
      "source": [
        "def build_lstm_model():\n",
        "    model = Sequential()\n",
        "    model.add(Embedding(max_features, 128))\n",
        "    model.add(LSTM(128))\n",
        "    model.add(Dense(1, activation='sigmoid'))\n",
        "    model.compile(optimizer='adam', loss='binary_crossentropy', metrics=['accuracy'])\n",
        "    return model"
      ],
      "metadata": {
        "id": "IzJHyvoIRYU8"
      },
      "execution_count": 4,
      "outputs": []
    },
    {
      "cell_type": "code",
      "source": [
        "def build_bidirectional_lstm_model():\n",
        "    model = Sequential()\n",
        "    model.add(Embedding(max_features, 128))\n",
        "    model.add(Bidirectional(LSTM(128)))\n",
        "    model.add(Dense(1, activation='sigmoid'))\n",
        "    model.compile(optimizer='adam', loss='binary_crossentropy', metrics=['accuracy'])\n",
        "    return model"
      ],
      "metadata": {
        "id": "Kc7pPBZpRdE9"
      },
      "execution_count": 5,
      "outputs": []
    },
    {
      "cell_type": "code",
      "source": [
        "def build_deep_lstm_model():\n",
        "    model = Sequential()\n",
        "    model.add(Embedding(max_features, 128))\n",
        "    model.add(LSTM(128, return_sequences=True))\n",
        "    model.add(LSTM(128))\n",
        "    model.add(Dense(1, activation='sigmoid'))\n",
        "    model.compile(optimizer='adam', loss='binary_crossentropy', metrics=['accuracy'])\n",
        "    return model"
      ],
      "metadata": {
        "id": "d7I8O8kwRl2W"
      },
      "execution_count": 6,
      "outputs": []
    },
    {
      "cell_type": "code",
      "source": [
        "models = {\n",
        "    \"RNN\": build_rnn_model(),\n",
        "    \"LSTM\": build_lstm_model(),\n",
        "    \"Bidirectional LSTM\": build_bidirectional_lstm_model(),\n",
        "    \"Deep LSTM\": build_deep_lstm_model()\n",
        "}\n",
        "\n",
        "history = {}\n",
        "epochs = 10\n",
        "batch_size = 128\n",
        "\n",
        "for name, model in models.items():\n",
        "    print(f\"Training {name} model...\")\n",
        "    history[name] = model.fit(x_train, y_train, epochs=epochs, batch_size=batch_size, validation_split=0.2)\n"
      ],
      "metadata": {
        "id": "uDoOXvINRlNA",
        "outputId": "3bc60f24-665e-4f75-a435-125602177997",
        "colab": {
          "base_uri": "https://localhost:8080/"
        }
      },
      "execution_count": 7,
      "outputs": [
        {
          "output_type": "stream",
          "name": "stdout",
          "text": [
            "Training RNN model...\n",
            "Epoch 1/10\n",
            "157/157 [==============================] - 88s 537ms/step - loss: 0.6609 - accuracy: 0.5760 - val_loss: 0.5753 - val_accuracy: 0.6918\n",
            "Epoch 2/10\n",
            "157/157 [==============================] - 79s 504ms/step - loss: 0.5274 - accuracy: 0.7405 - val_loss: 0.5696 - val_accuracy: 0.6988\n",
            "Epoch 3/10\n",
            "157/157 [==============================] - 77s 491ms/step - loss: 0.5232 - accuracy: 0.7419 - val_loss: 0.6012 - val_accuracy: 0.6782\n",
            "Epoch 4/10\n",
            "157/157 [==============================] - 71s 455ms/step - loss: 0.4202 - accuracy: 0.8077 - val_loss: 0.5246 - val_accuracy: 0.7416\n",
            "Epoch 5/10\n",
            "157/157 [==============================] - 71s 456ms/step - loss: 0.3916 - accuracy: 0.8323 - val_loss: 0.5648 - val_accuracy: 0.7112\n",
            "Epoch 6/10\n",
            "157/157 [==============================] - 71s 450ms/step - loss: 0.3500 - accuracy: 0.8547 - val_loss: 0.5210 - val_accuracy: 0.7720\n",
            "Epoch 7/10\n",
            "157/157 [==============================] - 70s 448ms/step - loss: 0.3642 - accuracy: 0.8407 - val_loss: 0.6618 - val_accuracy: 0.6232\n",
            "Epoch 8/10\n",
            "157/157 [==============================] - 71s 455ms/step - loss: 0.4516 - accuracy: 0.7815 - val_loss: 0.6338 - val_accuracy: 0.7272\n",
            "Epoch 9/10\n",
            "157/157 [==============================] - 70s 446ms/step - loss: 0.2665 - accuracy: 0.8935 - val_loss: 0.6605 - val_accuracy: 0.6998\n",
            "Epoch 10/10\n",
            "157/157 [==============================] - 67s 427ms/step - loss: 0.5181 - accuracy: 0.7363 - val_loss: 0.6655 - val_accuracy: 0.6296\n",
            "Training LSTM model...\n",
            "Epoch 1/10\n",
            "157/157 [==============================] - 22s 124ms/step - loss: 0.4713 - accuracy: 0.7678 - val_loss: 0.4278 - val_accuracy: 0.8126\n",
            "Epoch 2/10\n",
            "157/157 [==============================] - 15s 95ms/step - loss: 0.2581 - accuracy: 0.9003 - val_loss: 0.3183 - val_accuracy: 0.8668\n",
            "Epoch 3/10\n",
            "157/157 [==============================] - 12s 77ms/step - loss: 0.1820 - accuracy: 0.9335 - val_loss: 0.3481 - val_accuracy: 0.8768\n",
            "Epoch 4/10\n",
            "157/157 [==============================] - 10s 63ms/step - loss: 0.1540 - accuracy: 0.9459 - val_loss: 0.3450 - val_accuracy: 0.8760\n",
            "Epoch 5/10\n",
            "157/157 [==============================] - 9s 59ms/step - loss: 0.1079 - accuracy: 0.9631 - val_loss: 0.4209 - val_accuracy: 0.8706\n",
            "Epoch 6/10\n",
            "157/157 [==============================] - 8s 50ms/step - loss: 0.0794 - accuracy: 0.9725 - val_loss: 0.5709 - val_accuracy: 0.8676\n",
            "Epoch 7/10\n",
            "157/157 [==============================] - 7s 46ms/step - loss: 0.1128 - accuracy: 0.9603 - val_loss: 0.4799 - val_accuracy: 0.8586\n",
            "Epoch 8/10\n",
            "157/157 [==============================] - 7s 47ms/step - loss: 0.0521 - accuracy: 0.9837 - val_loss: 0.5698 - val_accuracy: 0.8666\n",
            "Epoch 9/10\n",
            "157/157 [==============================] - 7s 45ms/step - loss: 0.0470 - accuracy: 0.9853 - val_loss: 0.6474 - val_accuracy: 0.8548\n",
            "Epoch 10/10\n",
            "157/157 [==============================] - 7s 46ms/step - loss: 0.0628 - accuracy: 0.9782 - val_loss: 0.6114 - val_accuracy: 0.8510\n",
            "Training Bidirectional LSTM model...\n",
            "Epoch 1/10\n",
            "157/157 [==============================] - 26s 147ms/step - loss: 0.5240 - accuracy: 0.7343 - val_loss: 0.3997 - val_accuracy: 0.8236\n",
            "Epoch 2/10\n",
            "157/157 [==============================] - 18s 113ms/step - loss: 0.2798 - accuracy: 0.8901 - val_loss: 0.3298 - val_accuracy: 0.8566\n",
            "Epoch 3/10\n",
            "157/157 [==============================] - 18s 114ms/step - loss: 0.2046 - accuracy: 0.9259 - val_loss: 0.3149 - val_accuracy: 0.8726\n",
            "Epoch 4/10\n",
            "157/157 [==============================] - 15s 97ms/step - loss: 0.1548 - accuracy: 0.9434 - val_loss: 0.3439 - val_accuracy: 0.8754\n",
            "Epoch 5/10\n",
            "157/157 [==============================] - 15s 94ms/step - loss: 0.1056 - accuracy: 0.9640 - val_loss: 0.4062 - val_accuracy: 0.8712\n",
            "Epoch 6/10\n",
            "157/157 [==============================] - 13s 85ms/step - loss: 0.0698 - accuracy: 0.9779 - val_loss: 0.4711 - val_accuracy: 0.8706\n",
            "Epoch 7/10\n",
            "157/157 [==============================] - 13s 86ms/step - loss: 0.0685 - accuracy: 0.9779 - val_loss: 0.5742 - val_accuracy: 0.8562\n",
            "Epoch 8/10\n",
            "157/157 [==============================] - 12s 79ms/step - loss: 0.0964 - accuracy: 0.9649 - val_loss: 0.5203 - val_accuracy: 0.8314\n",
            "Epoch 9/10\n",
            "157/157 [==============================] - 12s 78ms/step - loss: 0.0579 - accuracy: 0.9808 - val_loss: 0.5371 - val_accuracy: 0.8430\n",
            "Epoch 10/10\n",
            "157/157 [==============================] - 12s 77ms/step - loss: 0.0376 - accuracy: 0.9874 - val_loss: 0.7117 - val_accuracy: 0.8508\n",
            "Training Deep LSTM model...\n",
            "Epoch 1/10\n",
            "157/157 [==============================] - 27s 150ms/step - loss: 0.4813 - accuracy: 0.7707 - val_loss: 0.3390 - val_accuracy: 0.8554\n",
            "Epoch 2/10\n",
            "157/157 [==============================] - 18s 113ms/step - loss: 0.2510 - accuracy: 0.9028 - val_loss: 0.2940 - val_accuracy: 0.8860\n",
            "Epoch 3/10\n",
            "157/157 [==============================] - 17s 109ms/step - loss: 0.1764 - accuracy: 0.9384 - val_loss: 0.3351 - val_accuracy: 0.8782\n",
            "Epoch 4/10\n",
            "157/157 [==============================] - 16s 101ms/step - loss: 0.1434 - accuracy: 0.9468 - val_loss: 0.3840 - val_accuracy: 0.8748\n",
            "Epoch 5/10\n",
            "157/157 [==============================] - 14s 91ms/step - loss: 0.1436 - accuracy: 0.9470 - val_loss: 0.4519 - val_accuracy: 0.8622\n",
            "Epoch 6/10\n",
            "157/157 [==============================] - 14s 88ms/step - loss: 0.1152 - accuracy: 0.9579 - val_loss: 0.5139 - val_accuracy: 0.8084\n",
            "Epoch 7/10\n",
            "157/157 [==============================] - 13s 84ms/step - loss: 0.0907 - accuracy: 0.9668 - val_loss: 0.4801 - val_accuracy: 0.8652\n",
            "Epoch 8/10\n",
            "157/157 [==============================] - 13s 80ms/step - loss: 0.0484 - accuracy: 0.9843 - val_loss: 0.5848 - val_accuracy: 0.8626\n",
            "Epoch 9/10\n",
            "157/157 [==============================] - 12s 78ms/step - loss: 0.0317 - accuracy: 0.9901 - val_loss: 0.5642 - val_accuracy: 0.8598\n",
            "Epoch 10/10\n",
            "157/157 [==============================] - 12s 77ms/step - loss: 0.0478 - accuracy: 0.9839 - val_loss: 0.5719 - val_accuracy: 0.8422\n"
          ]
        }
      ]
    },
    {
      "cell_type": "code",
      "source": [
        "for name, model in models.items():\n",
        "    print(f\"Evaluating {name} model...\")\n",
        "    loss, accuracy = model.evaluate(x_test, y_test)\n",
        "    print(f\"{name} model - Loss: {loss}, Accuracy: {accuracy}\")"
      ],
      "metadata": {
        "id": "KSyoWFQMpiar",
        "outputId": "02c506d3-db9b-453a-e0ea-8ba38c826c11",
        "colab": {
          "base_uri": "https://localhost:8080/"
        }
      },
      "execution_count": 8,
      "outputs": [
        {
          "output_type": "stream",
          "name": "stdout",
          "text": [
            "Evaluating RNN model...\n",
            "782/782 [==============================] - 31s 39ms/step - loss: 0.6634 - accuracy: 0.6295\n",
            "RNN model - Loss: 0.6634354591369629, Accuracy: 0.6295199990272522\n",
            "Evaluating LSTM model...\n",
            "782/782 [==============================] - 7s 9ms/step - loss: 0.6234 - accuracy: 0.8461\n",
            "LSTM model - Loss: 0.6233867406845093, Accuracy: 0.8460800051689148\n",
            "Evaluating Bidirectional LSTM model...\n",
            "782/782 [==============================] - 11s 15ms/step - loss: 0.7277 - accuracy: 0.8492\n",
            "Bidirectional LSTM model - Loss: 0.7276725769042969, Accuracy: 0.8492000102996826\n",
            "Evaluating Deep LSTM model...\n",
            "782/782 [==============================] - 12s 15ms/step - loss: 0.5987 - accuracy: 0.8353\n",
            "Deep LSTM model - Loss: 0.5986632704734802, Accuracy: 0.8352800011634827\n"
          ]
        }
      ]
    },
    {
      "cell_type": "markdown",
      "source": [
        "***Wnioski***\n",
        "\n",
        "RNN: Może działać dobrze, ale może mieć trudności z długoterminowymi zależnościami.\n",
        "\n",
        "LSTM: Lepsza w uchwyceniu długoterminowych zależności, co może prowadzić do wyższej dokładności.\n",
        "\n",
        "Dwukierunkowa LSTM: Może poprawić wyniki dzięki wykorzystaniu informacji z obu kierunków (przód i tył).\n",
        "\n",
        "Głęboka LSTM: Może prowadzić do jeszcze lepszych wyników dzięki większej liczbie warstw, ale także może być bardziej podatna na przetrenowanie.\n",
        "Podsumowanie i porównanie wyników pozwoli ocenić, który z modeli najlepiej nadaje się do klasyfikacji recenzji IMDb w tym przypadku."
      ],
      "metadata": {
        "id": "v7KiFwg7qR-I"
      }
    }
  ],
  "metadata": {
    "colab": {
      "name": "Welcome To Colab",
      "provenance": [],
      "gpuType": "T4",
      "include_colab_link": true
    },
    "kernelspec": {
      "display_name": "Python 3",
      "name": "python3"
    },
    "accelerator": "GPU"
  },
  "nbformat": 4,
  "nbformat_minor": 0
}